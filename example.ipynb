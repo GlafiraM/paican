{
 "cells": [
  {
   "cell_type": "code",
   "execution_count": 1,
   "metadata": {},
   "outputs": [],
   "source": [
    "import os\n",
    "import numpy as np\n",
    "import scipy.io as sio\n",
    "\n",
    "from paican.paican import PAICAN"
   ]
  },
  {
   "cell_type": "code",
   "execution_count": 2,
   "metadata": {},
   "outputs": [],
   "source": [
    "path = 'datasets/parliament/'\n",
    "\n",
    "A = sio.mmread(os.path.join(path, 'A.mtx'))\n",
    "X = sio.mmread(os.path.join(path, 'X.mtx'))\n",
    "z = np.load(os.path.join(path, 'z.npy'))\n",
    "K = len(np.unique(z))"
   ]
  },
  {
   "cell_type": "code",
   "execution_count": 3,
   "metadata": {},
   "outputs": [
    {
     "name": "stdout",
     "output_type": "stream",
     "text": [
      "iter   0, ELBO: -1751.72876\n",
      "iter   1, ELBO: -1590.77258\n",
      "iter   2, ELBO: -1579.56592\n",
      "iter   3, ELBO: -1578.55505\n",
      "iter   4, ELBO: -1578.31470\n",
      "iter   5, ELBO: -1578.21484\n",
      "iter   6, ELBO: -1578.16064\n",
      "iter   7, ELBO: -1578.12451\n",
      "iter   8, ELBO: -1578.08594\n",
      "iter   9, ELBO: -1578.05103\n",
      "iter  10, ELBO: -1577.96960\n",
      "iter  11, ELBO: -1577.83435\n",
      "iter  12, ELBO: -1577.62585\n",
      "iter  13, ELBO: -1577.29419\n",
      "iter  14, ELBO: -1576.76501\n",
      "iter  15, ELBO: -1576.06201\n",
      "iter  16, ELBO: -1575.55542\n",
      "iter  17, ELBO: -1575.45020\n",
      "iter  18, ELBO: -1575.42053\n",
      "iter  19, ELBO: -1575.38013\n",
      "iter  20, ELBO: -1575.34045\n",
      "iter  21, ELBO: -1575.30627\n",
      "iter  22, ELBO: -1575.28687\n",
      "iter  23, ELBO: -1575.25049\n",
      "iter  24, ELBO: -1575.21069\n",
      "iter  25, ELBO: -1575.18933\n",
      "iter  26, ELBO: -1575.16406\n",
      "iter  27, ELBO: -1575.15344\n",
      "iter  28, ELBO: -1575.13757\n",
      "iter  29, ELBO: -1575.12952\n",
      "iter  30, ELBO: -1575.11584\n",
      "iter  31, ELBO: -1575.12183\n",
      "iter  32, ELBO: -1575.11975\n",
      "iter  33, ELBO: -1575.12769\n",
      "iter  34, ELBO: -1575.10706\n",
      "iter  35, ELBO: -1575.10974\n",
      "iter  36, ELBO: -1575.10645\n",
      "iter  37, ELBO: -1575.11072\n",
      "iter  38, ELBO: -1575.10645\n",
      "iter  39, ELBO: -1575.11755\n",
      "iter  40, ELBO: -1575.11719\n"
     ]
    }
   ],
   "source": [
    "paican = PAICAN(A, X, K, verbose=True)\n",
    "z_pr, ca_pr, cx_pr = paican.fit_predict()"
   ]
  }
 ],
 "metadata": {
  "kernelspec": {
   "display_name": "Python 3",
   "language": "python",
   "name": "python3"
  },
  "language_info": {
   "codemirror_mode": {
    "name": "ipython",
    "version": 3
   },
   "file_extension": ".py",
   "mimetype": "text/x-python",
   "name": "python",
   "nbconvert_exporter": "python",
   "pygments_lexer": "ipython3",
   "version": "3.6.4"
  }
 },
 "nbformat": 4,
 "nbformat_minor": 2
}
