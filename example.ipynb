{
 "cells": [
  {
   "cell_type": "code",
   "execution_count": 1,
   "metadata": {
    "collapsed": true
   },
   "outputs": [],
   "source": [
    "import os\n",
    "import numpy as np\n",
    "import scipy.io as sio\n",
    "import scipy.sparse as sp\n",
    "\n",
    "from paican.paican import PAICAN\n",
    "from sklearn.metrics import normalized_mutual_info_score as nmi"
   ]
  },
  {
   "cell_type": "markdown",
   "metadata": {},
   "source": [
    "#### Read the data"
   ]
  },
  {
   "cell_type": "code",
   "execution_count": 2,
   "metadata": {},
   "outputs": [
    {
     "name": "stdout",
     "output_type": "stream",
     "text": [
      "(451, 451) (451, 108) 7\n"
     ]
    }
   ],
   "source": [
    "path = 'data/parliament/'\n",
    "\n",
    "A = sio.mmread(os.path.join(path, 'A.mtx')).tocsr()\n",
    "X = sio.mmread(os.path.join(path, 'X.mtx')).tocsr()\n",
    "z = np.load(os.path.join(path, 'z.npy'))\n",
    "K = len(np.unique(z))\n",
    "\n",
    "print(A.shape, X.shape, K)"
   ]
  },
  {
   "cell_type": "markdown",
   "metadata": {},
   "source": [
    "#### Preprocessing: make undirected + filter singletons + (optinally) select largest connected component"
   ]
  },
  {
   "cell_type": "code",
   "execution_count": 3,
   "metadata": {},
   "outputs": [],
   "source": [
    "# make sure the graph is undirected\n",
    "A = A.maximum(A.T)\n",
    "\n",
    "# remove singleton nodes (without any edges)\n",
    "filter_singletons = A.sum(1).A1 != 0\n",
    "A = A[filter_singletons][:, filter_singletons]\n",
    "X = X[filter_singletons]\n",
    "z = z[filter_singletons]\n",
    "\n",
    "# (optionally) make sure the graph has a single connected component\n",
    "cc = sp.csgraph.connected_components(A)[1]\n",
    "cc_filter = cc == np.bincount(cc).argmax()\n",
    "\n",
    "A = A[cc_filter][:, cc_filter]\n",
    "X = X[cc_filter]\n",
    "z = z[cc_filter]"
   ]
  },
  {
   "cell_type": "markdown",
   "metadata": {},
   "source": [
    "#### Fit PAICAN"
   ]
  },
  {
   "cell_type": "code",
   "execution_count": 4,
   "metadata": {
    "scrolled": true
   },
   "outputs": [
    {
     "name": "stdout",
     "output_type": "stream",
     "text": [
      "iter   0, ELBO: -1751.73962\n",
      "iter   1, ELBO: -1590.77063\n",
      "iter   2, ELBO: -1579.55896\n",
      "iter   3, ELBO: -1578.55103\n",
      "iter   4, ELBO: -1578.30579\n",
      "iter   5, ELBO: -1578.20215\n",
      "iter   6, ELBO: -1578.14893\n",
      "iter   7, ELBO: -1578.12830\n",
      "iter   8, ELBO: -1578.10156\n",
      "iter   9, ELBO: -1578.05591\n",
      "iter  10, ELBO: -1577.97839\n",
      "iter  11, ELBO: -1577.84412\n",
      "iter  12, ELBO: -1577.63074\n",
      "iter  13, ELBO: -1577.29712\n",
      "iter  14, ELBO: -1576.77478\n",
      "iter  15, ELBO: -1576.05420\n",
      "iter  16, ELBO: -1575.55151\n",
      "iter  17, ELBO: -1575.44434\n",
      "iter  18, ELBO: -1575.41663\n",
      "iter  19, ELBO: -1575.38794\n",
      "iter  20, ELBO: -1575.34827\n",
      "iter  21, ELBO: -1575.30627\n",
      "iter  22, ELBO: -1575.28784\n",
      "iter  23, ELBO: -1575.25049\n",
      "iter  24, ELBO: -1575.20581\n",
      "iter  25, ELBO: -1575.17957\n",
      "iter  26, ELBO: -1575.16504\n",
      "iter  27, ELBO: -1575.15735\n",
      "iter  28, ELBO: -1575.15710\n"
     ]
    }
   ],
   "source": [
    "paican = PAICAN(A, X, K, verbose=True)\n",
    "z_pr, ca_pr, cx_pr = paican.fit_predict()"
   ]
  },
  {
   "cell_type": "markdown",
   "metadata": {},
   "source": [
    "#### Evaluate NMI"
   ]
  },
  {
   "cell_type": "code",
   "execution_count": 5,
   "metadata": {},
   "outputs": [
    {
     "name": "stdout",
     "output_type": "stream",
     "text": [
      "NMI: 80.30\n"
     ]
    }
   ],
   "source": [
    "print('NMI: {:.2f}'.format(nmi(z_pr, z) * 100))"
   ]
  }
 ],
 "metadata": {
  "kernelspec": {
   "display_name": "Python [default]",
   "language": "python",
   "name": "python3"
  },
  "language_info": {
   "codemirror_mode": {
    "name": "ipython",
    "version": 3
   },
   "file_extension": ".py",
   "mimetype": "text/x-python",
   "name": "python",
   "nbconvert_exporter": "python",
   "pygments_lexer": "ipython3",
   "version": "3.5.2"
  }
 },
 "nbformat": 4,
 "nbformat_minor": 2
}
