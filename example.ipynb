{
 "cells": [
  {
   "cell_type": "code",
   "execution_count": 1,
   "metadata": {
    "collapsed": true
   },
   "outputs": [],
   "source": [
    "import os\n",
    "import numpy as np\n",
    "import scipy.io as sio\n",
    "\n",
    "from paican.paican import PAICAN"
   ]
  },
  {
   "cell_type": "code",
   "execution_count": 2,
   "metadata": {
    "collapsed": true
   },
   "outputs": [],
   "source": [
    "path = 'data/parliament/'\n",
    "\n",
    "A = sio.mmread(os.path.join(path, 'A.mtx'))\n",
    "X = sio.mmread(os.path.join(path, 'X.mtx'))\n",
    "z = np.load(os.path.join(path, 'z.npy'))\n",
    "K = len(np.unique(z))"
   ]
  },
  {
   "cell_type": "code",
   "execution_count": 3,
   "metadata": {},
   "outputs": [
    {
     "name": "stdout",
     "output_type": "stream",
     "text": [
      "iter   0, ELBO: -1751.73865\n",
      "iter   1, ELBO: -1590.77551\n",
      "iter   2, ELBO: -1579.56189\n",
      "iter   3, ELBO: -1578.55005\n",
      "iter   4, ELBO: -1578.30286\n",
      "iter   5, ELBO: -1578.21875\n",
      "iter   6, ELBO: -1578.15271\n",
      "iter   7, ELBO: -1578.12732\n",
      "iter   8, ELBO: -1578.08594\n",
      "iter   9, ELBO: -1578.05005\n",
      "iter  10, ELBO: -1577.97253\n",
      "iter  11, ELBO: -1577.84399\n",
      "iter  12, ELBO: -1577.62976\n",
      "iter  13, ELBO: -1577.29810\n",
      "iter  14, ELBO: -1576.77087\n",
      "iter  15, ELBO: -1576.05811\n",
      "iter  16, ELBO: -1575.55151\n",
      "iter  17, ELBO: -1575.44727\n",
      "iter  18, ELBO: -1575.42542\n",
      "iter  19, ELBO: -1575.38208\n",
      "iter  20, ELBO: -1575.35608\n",
      "iter  21, ELBO: -1575.30725\n",
      "iter  22, ELBO: -1575.29565\n",
      "iter  23, ELBO: -1575.25049\n",
      "iter  24, ELBO: -1575.21362\n",
      "iter  25, ELBO: -1575.18054\n",
      "iter  26, ELBO: -1575.16113\n",
      "iter  27, ELBO: -1575.15735\n",
      "iter  28, ELBO: -1575.15613\n",
      "iter  29, ELBO: -1575.12366\n",
      "iter  30, ELBO: -1575.11975\n",
      "iter  31, ELBO: -1575.12085\n",
      "iter  32, ELBO: -1575.12268\n",
      "iter  33, ELBO: -1575.12781\n",
      "iter  34, ELBO: -1575.12561\n",
      "iter  35, ELBO: -1575.10583\n",
      "iter  36, ELBO: -1575.10547\n"
     ]
    }
   ],
   "source": [
    "paican = PAICAN(A, X, K, verbose=True)\n",
    "z_pr, ca_pr, cx_pr = paican.fit_predict()"
   ]
  }
 ],
 "metadata": {
  "kernelspec": {
   "display_name": "Python [default]",
   "language": "python",
   "name": "python3"
  },
  "language_info": {
   "codemirror_mode": {
    "name": "ipython",
    "version": 3
   },
   "file_extension": ".py",
   "mimetype": "text/x-python",
   "name": "python",
   "nbconvert_exporter": "python",
   "pygments_lexer": "ipython3",
   "version": "3.5.2"
  }
 },
 "nbformat": 4,
 "nbformat_minor": 2
}
