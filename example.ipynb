{
 "cells": [
  {
   "cell_type": "code",
   "execution_count": 1,
   "metadata": {
    "collapsed": true
   },
   "outputs": [],
   "source": [
    "import os\n",
    "import numpy as np\n",
    "import scipy.io as sio\n",
    "import scipy.sparse as sp\n",
    "\n",
    "from paican.paican import PAICAN\n",
    "from sklearn.metrics import normalized_mutual_info_score as nmi"
   ]
  },
  {
   "cell_type": "markdown",
   "metadata": {},
   "source": [
    "#### Read the data"
   ]
  },
  {
   "cell_type": "code",
   "execution_count": 2,
   "metadata": {},
   "outputs": [
    {
     "name": "stdout",
     "output_type": "stream",
     "text": [
      "(451, 451) (451, 108) 7\n"
     ]
    }
   ],
   "source": [
    "path = 'data/parliament/'\n",
    "\n",
    "A = sio.mmread(os.path.join(path, 'A.mtx')).tocsr()\n",
    "X = sio.mmread(os.path.join(path, 'X.mtx')).tocsr()\n",
    "z = np.load(os.path.join(path, 'z.npy'))\n",
    "K = len(np.unique(z))\n",
    "\n",
    "print(A.shape, X.shape, K)"
   ]
  },
  {
   "cell_type": "markdown",
   "metadata": {},
   "source": [
    "#### Preprocessing: make undirected + filter singletons + (optinally) select largest connected component"
   ]
  },
  {
   "cell_type": "code",
   "execution_count": null,
   "metadata": {},
   "outputs": [],
   "source": [
    "# make sure the graph is undirected\n",
    "A = A.maximum(A.T)\n",
    "\n",
    "# remove singleton nodes (without any edges)\n",
    "filter_singletons = A.sum(1).A1 != 0\n",
    "A = A[filter_singletons][:, filter_singletons]\n",
    "X = X[filter_singletons]\n",
    "z = z[filter_singletons]\n",
    "\n",
    "# (optionally) make sure the graph has a single connected component\n",
    "cc = sp.csgraph.connected_components(A)[1]\n",
    "cc_filter = cc == np.bincount(cc).argmax()\n",
    "\n",
    "A = A[cc_filter][:, cc_filter]\n",
    "X = X[cc_filter]\n",
    "z = z[cc_filter]"
   ]
  },
  {
   "cell_type": "markdown",
   "metadata": {},
   "source": [
    "#### Fit PAICAN"
   ]
  },
  {
   "cell_type": "code",
   "execution_count": null,
   "metadata": {
    "scrolled": true
   },
   "outputs": [],
   "source": [
    "paican = PAICAN(A, X, K, verbose=True)\n",
    "z_pr, ca_pr, cx_pr = paican.fit_predict()"
   ]
  },
  {
   "cell_type": "markdown",
   "metadata": {},
   "source": [
    "#### Evaluate NMI"
   ]
  },
  {
   "cell_type": "code",
   "execution_count": null,
   "metadata": {},
   "outputs": [],
   "source": [
    "print('NMI: {:.2f}'.format(nmi(z_pr, z) * 100))"
   ]
  }
 ],
 "metadata": {
  "kernelspec": {
   "display_name": "Python [default]",
   "language": "python",
   "name": "python3"
  },
  "language_info": {
   "codemirror_mode": {
    "name": "ipython",
    "version": 3
   },
   "file_extension": ".py",
   "mimetype": "text/x-python",
   "name": "python",
   "nbconvert_exporter": "python",
   "pygments_lexer": "ipython3",
   "version": "3.5.2"
  }
 },
 "nbformat": 4,
 "nbformat_minor": 2
}
